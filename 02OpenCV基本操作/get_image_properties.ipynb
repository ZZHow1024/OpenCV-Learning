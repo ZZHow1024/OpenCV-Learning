{
 "cells": [
  {
   "metadata": {},
   "cell_type": "markdown",
   "source": [
    "# 获取图像的属性\n",
    "- 导入相关库"
   ],
   "id": "e37dd29a24aed84d"
  },
  {
   "metadata": {
    "ExecuteTime": {
     "end_time": "2025-02-22T05:00:02.097805Z",
     "start_time": "2025-02-22T05:00:02.092491Z"
    }
   },
   "cell_type": "code",
   "source": [
    "import numpy as np\n",
    "import matplotlib.pyplot as plt"
   ],
   "id": "bf9df00a85012ac1",
   "outputs": [],
   "execution_count": 14
  },
  {
   "metadata": {},
   "cell_type": "markdown",
   "source": "- 创建一个 256 * 256 的纯黑图像",
   "id": "64b7aced0d39eb07"
  },
  {
   "metadata": {
    "ExecuteTime": {
     "end_time": "2025-02-22T05:00:02.147051Z",
     "start_time": "2025-02-22T05:00:02.099271Z"
    }
   },
   "cell_type": "code",
   "source": [
    "image = np.zeros((256,256,3), np.uint8)\n",
    "plt.imshow(image[:, :, ::-1])"
   ],
   "id": "d21594dd5b6faca8",
   "outputs": [
    {
     "data": {
      "text/plain": [
       "<matplotlib.image.AxesImage at 0x117df4b90>"
      ]
     },
     "execution_count": 15,
     "metadata": {},
     "output_type": "execute_result"
    },
    {
     "data": {
      "text/plain": [
       "<Figure size 640x480 with 1 Axes>"
      ],
      "image/png": "[encoded data removed]"
     },
     "metadata": {},
     "output_type": "display_data"
    }
   ],
   "execution_count": 15
  },
  {
   "metadata": {},
   "cell_type": "markdown",
   "source": "- 获取图像的**形状**（**行数**、**列数** 和 **通道数**）",
   "id": "f381b88d0bc5f7a7"
  },
  {
   "metadata": {
    "ExecuteTime": {
     "end_time": "2025-02-22T05:00:02.150152Z",
     "start_time": "2025-02-22T05:00:02.147891Z"
    }
   },
   "cell_type": "code",
   "source": "image.shape",
   "id": "5c23524eb12b81aa",
   "outputs": [
    {
     "data": {
      "text/plain": [
       "(256, 256, 3)"
      ]
     },
     "execution_count": 16,
     "metadata": {},
     "output_type": "execute_result"
    }
   ],
   "execution_count": 16
  },
  {
   "metadata": {},
   "cell_type": "markdown",
   "source": "- 获取图像的**数据类型**",
   "id": "cb5e1ec328e0b891"
  },
  {
   "metadata": {
    "ExecuteTime": {
     "end_time": "2025-02-22T05:00:02.152826Z",
     "start_time": "2025-02-22T05:00:02.150647Z"
    }
   },
   "cell_type": "code",
   "source": "image.dtype",
   "id": "56f2e794d31f21f9",
   "outputs": [
    {
     "data": {
      "text/plain": [
       "dtype('uint8')"
      ]
     },
     "execution_count": 17,
     "metadata": {},
     "output_type": "execute_result"
    }
   ],
   "execution_count": 17
  },
  {
   "metadata": {},
   "cell_type": "markdown",
   "source": "- 获取图像的**大小**（**像素数**）",
   "id": "ce8276f1d8883b49"
  },
  {
   "metadata": {
    "ExecuteTime": {
     "end_time": "2025-02-22T05:00:02.156446Z",
     "start_time": "2025-02-22T05:00:02.153847Z"
    }
   },
   "cell_type": "code",
   "source": "image.size",
   "id": "fda345d4127369c6",
   "outputs": [
    {
     "data": {
      "text/plain": [
       "196608"
      ]
     },
     "execution_count": 18,
     "metadata": {},
     "output_type": "execute_result"
    }
   ],
   "execution_count": 18
  }
 ],
 "metadata": {
  "kernelspec": {
   "display_name": "Python 3",
   "language": "python",
   "name": "python3"
  },
  "language_info": {
   "codemirror_mode": {
    "name": "ipython",
    "version": 2
   },
   "file_extension": ".py",
   "mimetype": "text/x-python",
   "name": "python",
   "nbconvert_exporter": "python",
   "pygments_lexer": "ipython2",
   "version": "2.7.6"
  }
 },
 "nbformat": 4,
 "nbformat_minor": 5
}
